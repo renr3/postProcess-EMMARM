{
 "cells": [
  {
   "cell_type": "code",
   "execution_count": 1,
   "metadata": {},
   "outputs": [
    {
     "name": "stdout",
     "output_type": "stream",
     "text": [
      "oi\n"
     ]
    }
   ],
   "source": [
    "print(\"oi\")"
   ]
  },
  {
   "cell_type": "code",
   "execution_count": 3,
   "metadata": {},
   "outputs": [],
   "source": [
    "import pandas as pd\n",
    "pathFile=r'C:\\Users\\Renan\\OneDrive\\Renan\\Engenharia Civil\\Desenvolvimentos\\postProcess-EMMARM\\GUI_version\\source'\n",
    "file=r'\\JPEE-2-VAZIO_22-08-02_16-27-01.txt'\n",
    "#acceleration = pd.read_table(pathFile+file, names=[\"accel_\"+str(i+1) for i in range(0,4)])\n",
    "acceleration = pd.read_table(pathFile+file)\n",
    "file=r'\\PASTA_23-07-27_16-25-56.txt'\n",
    "#acceleration = pd.read_table(pathFile+file, names=[\"accel_\"+str(i+1) for i in range(0,4)])\n",
    "acceleration = pd.read_table(pathFile+file)"
   ]
  }
 ],
 "metadata": {
  "kernelspec": {
   "display_name": ".venv",
   "language": "python",
   "name": "python3"
  },
  "language_info": {
   "codemirror_mode": {
    "name": "ipython",
    "version": 3
   },
   "file_extension": ".py",
   "mimetype": "text/x-python",
   "name": "python",
   "nbconvert_exporter": "python",
   "pygments_lexer": "ipython3",
   "version": "3.8.10"
  }
 },
 "nbformat": 4,
 "nbformat_minor": 2
}
